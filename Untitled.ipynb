{
 "cells": [
  {
   "cell_type": "code",
   "execution_count": 18,
   "id": "1a0c983e",
   "metadata": {},
   "outputs": [
    {
     "ename": "TypeError",
     "evalue": "'list' object cannot be interpreted as an integer",
     "output_type": "error",
     "traceback": [
      "\u001b[1;31m---------------------------------------------------------------------------\u001b[0m",
      "\u001b[1;31mTypeError\u001b[0m                                 Traceback (most recent call last)",
      "\u001b[1;32m~\\AppData\\Local\\Temp/ipykernel_16140/3117739485.py\u001b[0m in \u001b[0;36m<module>\u001b[1;34m\u001b[0m\n\u001b[0;32m     43\u001b[0m \u001b[0mfile1\u001b[0m \u001b[1;33m=\u001b[0m \u001b[0mopen\u001b[0m\u001b[1;33m(\u001b[0m\u001b[1;34m\"number_of_nodes.txt\"\u001b[0m\u001b[1;33m,\u001b[0m\u001b[1;34m\"r+\"\u001b[0m\u001b[1;33m)\u001b[0m\u001b[1;33m\u001b[0m\u001b[1;33m\u001b[0m\u001b[0m\n\u001b[0;32m     44\u001b[0m \u001b[0mn\u001b[0m \u001b[1;33m=\u001b[0m \u001b[0mfile1\u001b[0m\u001b[1;33m.\u001b[0m\u001b[0mreadlines\u001b[0m\u001b[1;33m(\u001b[0m\u001b[1;33m)\u001b[0m\u001b[1;33m\u001b[0m\u001b[1;33m\u001b[0m\u001b[0m\n\u001b[1;32m---> 45\u001b[1;33m \u001b[0mprufer\u001b[0m \u001b[1;33m=\u001b[0m \u001b[1;33m[\u001b[0m\u001b[0mi\u001b[0m \u001b[1;32mfor\u001b[0m \u001b[0mi\u001b[0m \u001b[1;32min\u001b[0m \u001b[0mrange\u001b[0m\u001b[1;33m(\u001b[0m\u001b[0mn\u001b[0m\u001b[1;33m)\u001b[0m\u001b[1;33m]\u001b[0m\u001b[1;33m\u001b[0m\u001b[1;33m\u001b[0m\u001b[0m\n\u001b[0m\u001b[0;32m     46\u001b[0m \u001b[0mprintTreeEdges\u001b[0m\u001b[1;33m(\u001b[0m\u001b[0mprufer\u001b[0m\u001b[1;33m,\u001b[0m \u001b[0mn\u001b[0m\u001b[1;33m)\u001b[0m\u001b[1;33m\u001b[0m\u001b[1;33m\u001b[0m\u001b[0m\n",
      "\u001b[1;31mTypeError\u001b[0m: 'list' object cannot be interpreted as an integer"
     ]
    }
   ],
   "source": [
    "\n",
    "# Prints edges of tree represented\n",
    "# by given Prufer code\n",
    "def printTreeEdges(prufer, m):\n",
    "\t\n",
    "\tvertices = m + 2\n",
    "\t\n",
    "\t# Initialize the array of vertices\n",
    "\tvertex_set = [0] * vertices\n",
    "\t\n",
    "\t# Number of occurrences of vertex in code\n",
    "\tfor i in range(vertices - 2):\n",
    "\t\tvertex_set[prufer[i] - 1] += 1\n",
    "\t\n",
    "\tprint(\"The edge set E(G) is :\")\n",
    "\t\n",
    "\t# Find the smallest label not present in\n",
    "\t# prufer.\n",
    "\tj = 0\n",
    "\tfor i in range(vertices - 2):\n",
    "\t\tfor j in range(vertices):\n",
    "\t\t\t\n",
    "\t\t\t# If j+1 is not present in prufer set\n",
    "\t\t\tif (vertex_set[j] == 0):\n",
    "\t\t\t\t\n",
    "\t\t\t\t# Remove from Prufer set and print\n",
    "\t\t\t\t# pair.\n",
    "\t\t\t\tvertex_set[j] = -1\n",
    "\t\t\t\tprint(\"(\" , (j + 1),\", \",prufer[i],\") \",sep = \"\",end = \"\")\n",
    "\t\t\t\tvertex_set[prufer[i] - 1] -= 1\n",
    "\t\t\t\tbreak\n",
    "\t\n",
    "\tj = 0\n",
    "\t\n",
    "\t# For the last element\n",
    "\tfor i in range(vertices):\n",
    "\t\tif (vertex_set[i] == 0 and j == 0):\n",
    "\t\t\tprint(\"(\", (i + 1),\", \", sep=\"\", end=\"\")\n",
    "\t\t\tj += 1\n",
    "\t\telif (vertex_set[i] == 0 and j == 1):\n",
    "\t\t\tprint((i + 1),\")\")\n",
    "\n",
    "# Driver code\n",
    "file1 = open(\"number_of_nodes.txt\",\"r+\")\n",
    "n = file1.readlines()\n",
    "prufer = [i for i in range(n)]\n",
    "printTreeEdges(prufer, n)\n"
   ]
  },
  {
   "cell_type": "code",
   "execution_count": 8,
   "id": "b6d1d720",
   "metadata": {},
   "outputs": [
    {
     "name": "stdout",
     "output_type": "stream",
     "text": [
      "<class 'list'>\n"
     ]
    }
   ],
   "source": [
    "pruger = [ 1,2,3]\n",
    "print(type(pruger))\n"
   ]
  },
  {
   "cell_type": "code",
   "execution_count": 9,
   "id": "b3913d69",
   "metadata": {},
   "outputs": [
    {
     "name": "stdout",
     "output_type": "stream",
     "text": [
      "<class 'list'>\n"
     ]
    }
   ],
   "source": [
    "print(type(prufer))"
   ]
  },
  {
   "cell_type": "code",
   "execution_count": null,
   "id": "2e2b3624",
   "metadata": {},
   "outputs": [],
   "source": []
  }
 ],
 "metadata": {
  "kernelspec": {
   "display_name": "Python 3 (ipykernel)",
   "language": "python",
   "name": "python3"
  },
  "language_info": {
   "codemirror_mode": {
    "name": "ipython",
    "version": 3
   },
   "file_extension": ".py",
   "mimetype": "text/x-python",
   "name": "python",
   "nbconvert_exporter": "python",
   "pygments_lexer": "ipython3",
   "version": "3.9.7"
  }
 },
 "nbformat": 4,
 "nbformat_minor": 5
}
